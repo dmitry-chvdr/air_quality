{
 "cells": [
  {
   "cell_type": "markdown",
   "metadata": {
    "id": "CZ3bGdj6KXx9"
   },
   "source": [
    "# Линейные модели,случайные леса и бустинги для предсказания временных рядов."
   ]
  },
  {
   "cell_type": "markdown",
   "metadata": {
    "id": "jx2xp_aiKlcR"
   },
   "source": [
    "*В рамках задачи по предсказанию индекса качества воздуха в городе Берлин были проведены эксперименты с несолькими группами данных и моделями*.<br>\n",
    "\n",
    "Задача: прогнозировать индекс качества воздуха на некоторый период времени.<br> \n",
    "*(Индекс качества воздуха по дню считается как наибольший расчетный индекс из определенного количетсва загрязнителей.)*\n",
    "\n",
    "Период временного ряда 2013-2020 год (подневно).\n",
    "\n",
    "В качестве Baseline была взята взята функция предскаызвающая на ***n*** дней вперед по среднем за ***n*** дней. \n",
    "\n",
    "Наилучшая предыдущая модель - SARIMAX. \n",
    "\n",
    "MAE(среднее)  Baseline - 9.3<br>\n",
    "МАЕ(среднее) SARIMAX - 8.32"
   ]
  },
  {
   "cell_type": "markdown",
   "metadata": {
    "id": "okFPWXIkya_6"
   },
   "source": [
    "# Были построены 3 типа моделей: <br>\n",
    "- Линейные модели <br>\n",
    "- Случайный лес <br>\n",
    "- Бустинги"
   ]
  },
  {
   "cell_type": "markdown",
   "metadata": {
    "id": "IM6NlWZ1dZzX"
   },
   "source": [
    "# Выводы по выбранным моделям:<br>\n",
    "В рамках проведенных экспериментов нашей команде удалось побить ***score*** предыдущих экспериментов. <br>\n",
    "\n",
    "Наилучшая линейная модель - Логистическая регрессия МАЕ-6.8<br>\n",
    "Наилучший RF/Бустинг - XGBoost MAE-7.5  (на полных данных с дополнительными дневными признаками).<br> <br>\n",
    "\n",
    "На основе метрик качества можно сделать вывод, что все используемые модели за исключением RandomForest приемлемы для предсказания на короткий период (до 60 дней) индекса качества воздуха.<br>\n",
    "\n",
    "AQI варьируется от 0 до 500 значения индекса и колебания предсказаний в пределах 20 пунктов некритичны (хотя и важны).<br><br>\n",
    "\n",
    "Задача предсказания индекса качества воздуха относительно проста. Отсутствует тренд, имеются лишь сезонные колебания (сезон года, рабочие или выходные дни).\n",
    "Между значениями можно построить простую линейную зависимость.<br>\n",
    "\n",
    "По этой причине использование сложных моделей нецелесооборазно.\n",
    "\n",
    "\n"
   ]
  },
  {
   "cell_type": "markdown",
   "metadata": {
    "id": "alD-oMs_xGwh"
   },
   "source": [
    "# Исходные данные:"
   ]
  },
  {
   "cell_type": "markdown",
   "metadata": {
    "id": "wuWza0lpyykT"
   },
   "source": [
    "В качестве данных в различных моделях выступали : <br>\n",
    "- Данные о концентрации загрязнителей в воздухе<br>\n",
    "- Данные об индексах по загрязнителям (рассчитаны в соотвествии с EPA *агентство по охране окружающей среды США* на основе концентрации загрязнителей)<br>\n",
    "- Расширенные данные с дополнительными  характеристиками по дням недели/года/начало_месяца/конец_месяца.<br>"
   ]
  },
  {
   "cell_type": "code",
   "execution_count": null,
   "metadata": {},
   "outputs": [],
   "source": [
    "import pandas as pd\n",
    "from fastai.tabular.core import add_datepart"
   ]
  },
  {
   "cell_type": "code",
   "execution_count": null,
   "metadata": {
    "id": "LoHSZC1MK7Fh"
   },
   "outputs": [],
   "source": [
    "# Формирование датасетов\n",
    "PATH = \"https://raw.githubusercontent.com/dmitry-chvdr/aqi_prediction/Checkpoint4/ts_air_quality_index_2013_2020.csv\"\n",
    "\n",
    "data = pd.read_csv(PATH)\n",
    "data_with_character_of_day = pd.read_csv(PATH)\n",
    "\n",
    "# Добавим в данные привязку к дню года\n",
    "add_datepart(data_with_character_of_day, \"Date\", drop=False)\n",
    "for i in [\n",
    "    \"Is_month_end\",\n",
    "    \"Is_month_start\",\n",
    "    \"Is_quarter_end\",\n",
    "    \"Is_quarter_start\",\n",
    "    \"Is_year_end\",\n",
    "    \"Is_year_start\",\n",
    "]:\n",
    "    data_with_character_of_day[f\"{i}\"] = data_with_character_of_day[f\"{i}\"].map(\n",
    "        {True: 1, False: 0}\n",
    "    )"
   ]
  },
  {
   "cell_type": "code",
   "execution_count": null,
   "metadata": {
    "colab": {
     "base_uri": "https://localhost:8080/",
     "height": 143
    },
    "id": "H_6MPhHpLFXg",
    "outputId": "88d60426-38d4-48bb-e18c-f696eb6d097a"
   },
   "outputs": [
    {
     "data": {
      "text/html": [
       "\n",
       "  <div id=\"df-5a2939ae-73c8-432a-bef1-a9b75d7ea6f6\">\n",
       "    <div class=\"colab-df-container\">\n",
       "      <div>\n",
       "<style scoped>\n",
       "    .dataframe tbody tr th:only-of-type {\n",
       "        vertical-align: middle;\n",
       "    }\n",
       "\n",
       "    .dataframe tbody tr th {\n",
       "        vertical-align: top;\n",
       "    }\n",
       "\n",
       "    .dataframe thead th {\n",
       "        text-align: right;\n",
       "    }\n",
       "</style>\n",
       "<table border=\"1\" class=\"dataframe\">\n",
       "  <thead>\n",
       "    <tr style=\"text-align: right;\">\n",
       "      <th></th>\n",
       "      <th>CO_Concentration</th>\n",
       "      <th>NO2_Concentration</th>\n",
       "      <th>O3_Concentration</th>\n",
       "      <th>PM10_Concentration</th>\n",
       "      <th>PM2.5_Concentration</th>\n",
       "      <th>SO2_Concentration</th>\n",
       "      <th>Date</th>\n",
       "      <th>SO2_index</th>\n",
       "      <th>PM10_index</th>\n",
       "      <th>PM2.5_index</th>\n",
       "      <th>O3_index</th>\n",
       "      <th>NO2_index</th>\n",
       "      <th>CO_index</th>\n",
       "      <th>aqi</th>\n",
       "    </tr>\n",
       "  </thead>\n",
       "  <tbody>\n",
       "    <tr>\n",
       "      <th>0</th>\n",
       "      <td>0.511042</td>\n",
       "      <td>30.759775</td>\n",
       "      <td>49.709444</td>\n",
       "      <td>204.521183</td>\n",
       "      <td>42.600000</td>\n",
       "      <td>13.191861</td>\n",
       "      <td>2013-01-01</td>\n",
       "      <td>7</td>\n",
       "      <td>125</td>\n",
       "      <td>118</td>\n",
       "      <td>46</td>\n",
       "      <td>15</td>\n",
       "      <td>0</td>\n",
       "      <td>125</td>\n",
       "    </tr>\n",
       "    <tr>\n",
       "      <th>1</th>\n",
       "      <td>0.513333</td>\n",
       "      <td>26.054568</td>\n",
       "      <td>52.687887</td>\n",
       "      <td>15.570061</td>\n",
       "      <td>25.800000</td>\n",
       "      <td>1.925773</td>\n",
       "      <td>2013-01-02</td>\n",
       "      <td>1</td>\n",
       "      <td>14</td>\n",
       "      <td>79</td>\n",
       "      <td>48</td>\n",
       "      <td>13</td>\n",
       "      <td>0</td>\n",
       "      <td>79</td>\n",
       "    </tr>\n",
       "    <tr>\n",
       "      <th>2</th>\n",
       "      <td>0.473333</td>\n",
       "      <td>31.372220</td>\n",
       "      <td>40.397083</td>\n",
       "      <td>13.538415</td>\n",
       "      <td>20.046667</td>\n",
       "      <td>2.064878</td>\n",
       "      <td>2013-01-03</td>\n",
       "      <td>1</td>\n",
       "      <td>12</td>\n",
       "      <td>67</td>\n",
       "      <td>37</td>\n",
       "      <td>15</td>\n",
       "      <td>0</td>\n",
       "      <td>67</td>\n",
       "    </tr>\n",
       "  </tbody>\n",
       "</table>\n",
       "</div>\n",
       "      <button class=\"colab-df-convert\" onclick=\"convertToInteractive('df-5a2939ae-73c8-432a-bef1-a9b75d7ea6f6')\"\n",
       "              title=\"Convert this dataframe to an interactive table.\"\n",
       "              style=\"display:none;\">\n",
       "        \n",
       "  <svg xmlns=\"http://www.w3.org/2000/svg\" height=\"24px\"viewBox=\"0 0 24 24\"\n",
       "       width=\"24px\">\n",
       "    <path d=\"M0 0h24v24H0V0z\" fill=\"none\"/>\n",
       "    <path d=\"M18.56 5.44l.94 2.06.94-2.06 2.06-.94-2.06-.94-.94-2.06-.94 2.06-2.06.94zm-11 1L8.5 8.5l.94-2.06 2.06-.94-2.06-.94L8.5 2.5l-.94 2.06-2.06.94zm10 10l.94 2.06.94-2.06 2.06-.94-2.06-.94-.94-2.06-.94 2.06-2.06.94z\"/><path d=\"M17.41 7.96l-1.37-1.37c-.4-.4-.92-.59-1.43-.59-.52 0-1.04.2-1.43.59L10.3 9.45l-7.72 7.72c-.78.78-.78 2.05 0 2.83L4 21.41c.39.39.9.59 1.41.59.51 0 1.02-.2 1.41-.59l7.78-7.78 2.81-2.81c.8-.78.8-2.07 0-2.86zM5.41 20L4 18.59l7.72-7.72 1.47 1.35L5.41 20z\"/>\n",
       "  </svg>\n",
       "      </button>\n",
       "      \n",
       "  <style>\n",
       "    .colab-df-container {\n",
       "      display:flex;\n",
       "      flex-wrap:wrap;\n",
       "      gap: 12px;\n",
       "    }\n",
       "\n",
       "    .colab-df-convert {\n",
       "      background-color: #E8F0FE;\n",
       "      border: none;\n",
       "      border-radius: 50%;\n",
       "      cursor: pointer;\n",
       "      display: none;\n",
       "      fill: #1967D2;\n",
       "      height: 32px;\n",
       "      padding: 0 0 0 0;\n",
       "      width: 32px;\n",
       "    }\n",
       "\n",
       "    .colab-df-convert:hover {\n",
       "      background-color: #E2EBFA;\n",
       "      box-shadow: 0px 1px 2px rgba(60, 64, 67, 0.3), 0px 1px 3px 1px rgba(60, 64, 67, 0.15);\n",
       "      fill: #174EA6;\n",
       "    }\n",
       "\n",
       "    [theme=dark] .colab-df-convert {\n",
       "      background-color: #3B4455;\n",
       "      fill: #D2E3FC;\n",
       "    }\n",
       "\n",
       "    [theme=dark] .colab-df-convert:hover {\n",
       "      background-color: #434B5C;\n",
       "      box-shadow: 0px 1px 3px 1px rgba(0, 0, 0, 0.15);\n",
       "      filter: drop-shadow(0px 1px 2px rgba(0, 0, 0, 0.3));\n",
       "      fill: #FFFFFF;\n",
       "    }\n",
       "  </style>\n",
       "\n",
       "      <script>\n",
       "        const buttonEl =\n",
       "          document.querySelector('#df-5a2939ae-73c8-432a-bef1-a9b75d7ea6f6 button.colab-df-convert');\n",
       "        buttonEl.style.display =\n",
       "          google.colab.kernel.accessAllowed ? 'block' : 'none';\n",
       "\n",
       "        async function convertToInteractive(key) {\n",
       "          const element = document.querySelector('#df-5a2939ae-73c8-432a-bef1-a9b75d7ea6f6');\n",
       "          const dataTable =\n",
       "            await google.colab.kernel.invokeFunction('convertToInteractive',\n",
       "                                                     [key], {});\n",
       "          if (!dataTable) return;\n",
       "\n",
       "          const docLinkHtml = 'Like what you see? Visit the ' +\n",
       "            '<a target=\"_blank\" href=https://colab.research.google.com/notebooks/data_table.ipynb>data table notebook</a>'\n",
       "            + ' to learn more about interactive tables.';\n",
       "          element.innerHTML = '';\n",
       "          dataTable['output_type'] = 'display_data';\n",
       "          await google.colab.output.renderOutput(dataTable, element);\n",
       "          const docLink = document.createElement('div');\n",
       "          docLink.innerHTML = docLinkHtml;\n",
       "          element.appendChild(docLink);\n",
       "        }\n",
       "      </script>\n",
       "    </div>\n",
       "  </div>\n",
       "  "
      ],
      "text/plain": [
       "   CO_Concentration  NO2_Concentration  O3_Concentration  PM10_Concentration  \\\n",
       "0          0.511042          30.759775         49.709444          204.521183   \n",
       "1          0.513333          26.054568         52.687887           15.570061   \n",
       "2          0.473333          31.372220         40.397083           13.538415   \n",
       "\n",
       "   PM2.5_Concentration  SO2_Concentration        Date  SO2_index  PM10_index  \\\n",
       "0            42.600000          13.191861  2013-01-01          7         125   \n",
       "1            25.800000           1.925773  2013-01-02          1          14   \n",
       "2            20.046667           2.064878  2013-01-03          1          12   \n",
       "\n",
       "   PM2.5_index  O3_index  NO2_index  CO_index  aqi  \n",
       "0          118        46         15         0  125  \n",
       "1           79        48         13         0   79  \n",
       "2           67        37         15         0   67  "
      ]
     },
     "execution_count": 4,
     "metadata": {},
     "output_type": "execute_result"
    }
   ],
   "source": [
    "# Представление данных в виде DataFrame.\n",
    "data.head(3)"
   ]
  },
  {
   "cell_type": "code",
   "execution_count": null,
   "metadata": {
    "colab": {
     "base_uri": "https://localhost:8080/",
     "height": 289
    },
    "id": "Q9rSaF-RPfyJ",
    "outputId": "f7029206-b1fe-4e11-9790-6da127aa1c2a"
   },
   "outputs": [
    {
     "data": {
      "text/html": [
       "\n",
       "  <div id=\"df-f65f1b69-b21b-4c15-ab3e-d8bfc576797c\">\n",
       "    <div class=\"colab-df-container\">\n",
       "      <div>\n",
       "<style scoped>\n",
       "    .dataframe tbody tr th:only-of-type {\n",
       "        vertical-align: middle;\n",
       "    }\n",
       "\n",
       "    .dataframe tbody tr th {\n",
       "        vertical-align: top;\n",
       "    }\n",
       "\n",
       "    .dataframe thead th {\n",
       "        text-align: right;\n",
       "    }\n",
       "</style>\n",
       "<table border=\"1\" class=\"dataframe\">\n",
       "  <thead>\n",
       "    <tr style=\"text-align: right;\">\n",
       "      <th></th>\n",
       "      <th>CO_Concentration</th>\n",
       "      <th>NO2_Concentration</th>\n",
       "      <th>O3_Concentration</th>\n",
       "      <th>PM10_Concentration</th>\n",
       "      <th>PM2.5_Concentration</th>\n",
       "      <th>SO2_Concentration</th>\n",
       "      <th>Date</th>\n",
       "      <th>SO2_index</th>\n",
       "      <th>PM10_index</th>\n",
       "      <th>PM2.5_index</th>\n",
       "      <th>...</th>\n",
       "      <th>Day</th>\n",
       "      <th>Dayofweek</th>\n",
       "      <th>Dayofyear</th>\n",
       "      <th>Is_month_end</th>\n",
       "      <th>Is_month_start</th>\n",
       "      <th>Is_quarter_end</th>\n",
       "      <th>Is_quarter_start</th>\n",
       "      <th>Is_year_end</th>\n",
       "      <th>Is_year_start</th>\n",
       "      <th>Elapsed</th>\n",
       "    </tr>\n",
       "  </thead>\n",
       "  <tbody>\n",
       "    <tr>\n",
       "      <th>0</th>\n",
       "      <td>0.511042</td>\n",
       "      <td>30.759775</td>\n",
       "      <td>49.709444</td>\n",
       "      <td>204.521183</td>\n",
       "      <td>42.600000</td>\n",
       "      <td>13.191861</td>\n",
       "      <td>2013-01-01</td>\n",
       "      <td>7</td>\n",
       "      <td>125</td>\n",
       "      <td>118</td>\n",
       "      <td>...</td>\n",
       "      <td>1</td>\n",
       "      <td>1</td>\n",
       "      <td>1</td>\n",
       "      <td>0</td>\n",
       "      <td>1</td>\n",
       "      <td>0</td>\n",
       "      <td>1</td>\n",
       "      <td>0</td>\n",
       "      <td>1</td>\n",
       "      <td>1.356998e+09</td>\n",
       "    </tr>\n",
       "    <tr>\n",
       "      <th>1</th>\n",
       "      <td>0.513333</td>\n",
       "      <td>26.054568</td>\n",
       "      <td>52.687887</td>\n",
       "      <td>15.570061</td>\n",
       "      <td>25.800000</td>\n",
       "      <td>1.925773</td>\n",
       "      <td>2013-01-02</td>\n",
       "      <td>1</td>\n",
       "      <td>14</td>\n",
       "      <td>79</td>\n",
       "      <td>...</td>\n",
       "      <td>2</td>\n",
       "      <td>2</td>\n",
       "      <td>2</td>\n",
       "      <td>0</td>\n",
       "      <td>0</td>\n",
       "      <td>0</td>\n",
       "      <td>0</td>\n",
       "      <td>0</td>\n",
       "      <td>0</td>\n",
       "      <td>1.357085e+09</td>\n",
       "    </tr>\n",
       "    <tr>\n",
       "      <th>2</th>\n",
       "      <td>0.473333</td>\n",
       "      <td>31.372220</td>\n",
       "      <td>40.397083</td>\n",
       "      <td>13.538415</td>\n",
       "      <td>20.046667</td>\n",
       "      <td>2.064878</td>\n",
       "      <td>2013-01-03</td>\n",
       "      <td>1</td>\n",
       "      <td>12</td>\n",
       "      <td>67</td>\n",
       "      <td>...</td>\n",
       "      <td>3</td>\n",
       "      <td>3</td>\n",
       "      <td>3</td>\n",
       "      <td>0</td>\n",
       "      <td>0</td>\n",
       "      <td>0</td>\n",
       "      <td>0</td>\n",
       "      <td>0</td>\n",
       "      <td>0</td>\n",
       "      <td>1.357171e+09</td>\n",
       "    </tr>\n",
       "  </tbody>\n",
       "</table>\n",
       "<p>3 rows × 27 columns</p>\n",
       "</div>\n",
       "      <button class=\"colab-df-convert\" onclick=\"convertToInteractive('df-f65f1b69-b21b-4c15-ab3e-d8bfc576797c')\"\n",
       "              title=\"Convert this dataframe to an interactive table.\"\n",
       "              style=\"display:none;\">\n",
       "        \n",
       "  <svg xmlns=\"http://www.w3.org/2000/svg\" height=\"24px\"viewBox=\"0 0 24 24\"\n",
       "       width=\"24px\">\n",
       "    <path d=\"M0 0h24v24H0V0z\" fill=\"none\"/>\n",
       "    <path d=\"M18.56 5.44l.94 2.06.94-2.06 2.06-.94-2.06-.94-.94-2.06-.94 2.06-2.06.94zm-11 1L8.5 8.5l.94-2.06 2.06-.94-2.06-.94L8.5 2.5l-.94 2.06-2.06.94zm10 10l.94 2.06.94-2.06 2.06-.94-2.06-.94-.94-2.06-.94 2.06-2.06.94z\"/><path d=\"M17.41 7.96l-1.37-1.37c-.4-.4-.92-.59-1.43-.59-.52 0-1.04.2-1.43.59L10.3 9.45l-7.72 7.72c-.78.78-.78 2.05 0 2.83L4 21.41c.39.39.9.59 1.41.59.51 0 1.02-.2 1.41-.59l7.78-7.78 2.81-2.81c.8-.78.8-2.07 0-2.86zM5.41 20L4 18.59l7.72-7.72 1.47 1.35L5.41 20z\"/>\n",
       "  </svg>\n",
       "      </button>\n",
       "      \n",
       "  <style>\n",
       "    .colab-df-container {\n",
       "      display:flex;\n",
       "      flex-wrap:wrap;\n",
       "      gap: 12px;\n",
       "    }\n",
       "\n",
       "    .colab-df-convert {\n",
       "      background-color: #E8F0FE;\n",
       "      border: none;\n",
       "      border-radius: 50%;\n",
       "      cursor: pointer;\n",
       "      display: none;\n",
       "      fill: #1967D2;\n",
       "      height: 32px;\n",
       "      padding: 0 0 0 0;\n",
       "      width: 32px;\n",
       "    }\n",
       "\n",
       "    .colab-df-convert:hover {\n",
       "      background-color: #E2EBFA;\n",
       "      box-shadow: 0px 1px 2px rgba(60, 64, 67, 0.3), 0px 1px 3px 1px rgba(60, 64, 67, 0.15);\n",
       "      fill: #174EA6;\n",
       "    }\n",
       "\n",
       "    [theme=dark] .colab-df-convert {\n",
       "      background-color: #3B4455;\n",
       "      fill: #D2E3FC;\n",
       "    }\n",
       "\n",
       "    [theme=dark] .colab-df-convert:hover {\n",
       "      background-color: #434B5C;\n",
       "      box-shadow: 0px 1px 3px 1px rgba(0, 0, 0, 0.15);\n",
       "      filter: drop-shadow(0px 1px 2px rgba(0, 0, 0, 0.3));\n",
       "      fill: #FFFFFF;\n",
       "    }\n",
       "  </style>\n",
       "\n",
       "      <script>\n",
       "        const buttonEl =\n",
       "          document.querySelector('#df-f65f1b69-b21b-4c15-ab3e-d8bfc576797c button.colab-df-convert');\n",
       "        buttonEl.style.display =\n",
       "          google.colab.kernel.accessAllowed ? 'block' : 'none';\n",
       "\n",
       "        async function convertToInteractive(key) {\n",
       "          const element = document.querySelector('#df-f65f1b69-b21b-4c15-ab3e-d8bfc576797c');\n",
       "          const dataTable =\n",
       "            await google.colab.kernel.invokeFunction('convertToInteractive',\n",
       "                                                     [key], {});\n",
       "          if (!dataTable) return;\n",
       "\n",
       "          const docLinkHtml = 'Like what you see? Visit the ' +\n",
       "            '<a target=\"_blank\" href=https://colab.research.google.com/notebooks/data_table.ipynb>data table notebook</a>'\n",
       "            + ' to learn more about interactive tables.';\n",
       "          element.innerHTML = '';\n",
       "          dataTable['output_type'] = 'display_data';\n",
       "          await google.colab.output.renderOutput(dataTable, element);\n",
       "          const docLink = document.createElement('div');\n",
       "          docLink.innerHTML = docLinkHtml;\n",
       "          element.appendChild(docLink);\n",
       "        }\n",
       "      </script>\n",
       "    </div>\n",
       "  </div>\n",
       "  "
      ],
      "text/plain": [
       "   CO_Concentration  NO2_Concentration  O3_Concentration  PM10_Concentration  \\\n",
       "0          0.511042          30.759775         49.709444          204.521183   \n",
       "1          0.513333          26.054568         52.687887           15.570061   \n",
       "2          0.473333          31.372220         40.397083           13.538415   \n",
       "\n",
       "   PM2.5_Concentration  SO2_Concentration       Date  SO2_index  PM10_index  \\\n",
       "0            42.600000          13.191861 2013-01-01          7         125   \n",
       "1            25.800000           1.925773 2013-01-02          1          14   \n",
       "2            20.046667           2.064878 2013-01-03          1          12   \n",
       "\n",
       "   PM2.5_index  ...  Day  Dayofweek  Dayofyear  Is_month_end  Is_month_start  \\\n",
       "0          118  ...    1          1          1             0               1   \n",
       "1           79  ...    2          2          2             0               0   \n",
       "2           67  ...    3          3          3             0               0   \n",
       "\n",
       "   Is_quarter_end  Is_quarter_start  Is_year_end  Is_year_start       Elapsed  \n",
       "0               0                 1            0              1  1.356998e+09  \n",
       "1               0                 0            0              0  1.357085e+09  \n",
       "2               0                 0            0              0  1.357171e+09  \n",
       "\n",
       "[3 rows x 27 columns]"
      ]
     },
     "execution_count": 5,
     "metadata": {},
     "output_type": "execute_result"
    }
   ],
   "source": [
    "# Пример данных с доп. характеристикой по дню\n",
    "data_with_character_of_day.head(3)"
   ]
  },
  {
   "cell_type": "markdown",
   "metadata": {
    "id": "YHkPdh__i-Vk"
   },
   "source": [
    "На основаниие метрик качества можно отметить, при больших наборах данных - допустимо при необходимости для ускорения расчетов выкинуть часть загрязнителей. На результатах качества это отразится, но падение ***score *** в 2 раза (Чешко Г.Д.) в данной задаче на мой взгляд допустимо в некоторых сценариях."
   ]
  },
  {
   "cell_type": "markdown",
   "metadata": {
    "id": "bnSNNgAvLIgI"
   },
   "source": [
    "Были построены следующие модели:"
   ]
  },
  {
   "cell_type": "markdown",
   "metadata": {
    "id": "XPCrVm_AznpV"
   },
   "source": [
    "# Линейные модели"
   ]
  },
  {
   "cell_type": "markdown",
   "metadata": {
    "id": "ODXyDStfzunW"
   },
   "source": [
    "1. Линейная регрессия.<br>\n",
    "2. Линейная регрессия со сдвигом временного ряда.<br>\n",
    "3. Регрессия опорных векторов.<br>\n",
    "4. Логистическая регрессия.<br>"
   ]
  },
  {
   "cell_type": "markdown",
   "metadata": {
    "id": "v5bYc5dFzqph"
   },
   "source": [
    "# Случайный лес и бустинги"
   ]
  },
  {
   "cell_type": "markdown",
   "metadata": {
    "id": "WhsnCq02LVT5"
   },
   "source": [
    " 1. Случайный лес с учетом сезонной компоненты. (входные данные - временной ряд  ['aqi'] , ['Date'] , *дополнительный сдвиг по сезонной компоненте,логарифмирование для нормализации*.<br><br>\n",
    " 2. Случайный лес без сезонной компоненты. (входные данные - временной ряд  ['aqi'] , ['Date'] .<br><br>\n",
    " 3. Случайный лес обученный на части признаков с ограниченным количеством данных. (входные данные - матрица признаков [\" \"CO_Concentration\" , \"PM10_Concentration\" , \"PM2.5_Concentration\" ] ).<br><br>\n",
    " 4. Случайный лес обученный на части признаков с ограниченным количеством данных. (входные данные - матрица признаков на основе подиндексов качества воздуха  [ \"CO_index\" , \"PM10_index\" , \"PM2.5_index\" ]).<br><br>\n",
    " 5. Обучен Бустинг (XGBoost Regressor) (входные данные - матрица признаков на основе части подиндексов качества воздуха [\"CO_index\" , \"PM10_index\" , \"PM2.5_index\" ].<br><br>\n",
    " 6. Обучен Бустинг (XGBoost Regressor) (входные данные - матрица признаков[ \"CO_Concentration\" , \"PM10_Concentration\" , \"PM2.5_Concentration\" ].<br><br>\n",
    " 7. Обучен Бустинг (XGBoost Regressor) (входные данные - полная матрица из подиндексов качества воздуха. [\"CO_Concentration\" , \"PM10_Concentration\" , \"PM2.5_Concentration\" ].<br><br>\n",
    " 8. Обучен Бустинг (XGBoost Regressor) (входные данные - матрица дополненная характеристиками даты \"день недели\" , \" день года\" , \"Выходной день\" и прочее."
   ]
  },
  {
   "cell_type": "markdown",
   "metadata": {
    "id": "8t6c7WcIQ2un"
   },
   "source": [
    "# Визуализация наилучших результатов:"
   ]
  },
  {
   "cell_type": "markdown",
   "metadata": {
    "id": "jxzyusAYopm1"
   },
   "source": [
    "Визуализация базовой модели (n дней вперед по среднем за n дней)."
   ]
  },
  {
   "cell_type": "code",
   "execution_count": null,
   "metadata": {
    "colab": {
     "base_uri": "https://localhost:8080/",
     "height": 444
    },
    "id": "bIHr0ZA7mHbv",
    "outputId": "2344e748-8e7d-4707-8ef6-14bb2cd7feec"
   },
   "outputs": [],
   "source": [
    "# Визуализация предсказаний Baseline на 60 дней."
   ]
  },
  {
   "cell_type": "markdown",
   "metadata": {
    "id": "fKzjgLXC6hsS"
   },
   "source": [
    "Визуализация линейных моделей:"
   ]
  },
  {
   "cell_type": "code",
   "execution_count": null,
   "metadata": {
    "id": "5f7c7404-8620-4bc1-8c33-513bca4e8c60",
    "outputId": "1c0e821a-482b-4002-ccbf-84112b957a7e"
   },
   "outputs": [],
   "source": [
    "# Визуализация предсказаний линейных моделей на 60 дней."
   ]
  },
  {
   "cell_type": "markdown",
   "metadata": {
    "id": "B-qMkITe6mpm"
   },
   "source": [
    "Визуализация случайных лесов и бустингов."
   ]
  },
  {
   "cell_type": "code",
   "execution_count": 4,
   "metadata": {
    "colab": {
     "base_uri": "https://localhost:8080/",
     "height": 444
    },
    "id": "esFZuiTA-7b9",
    "outputId": "a0d758d5-7be8-485f-cdab-109107a40b6e"
   },
   "outputs": [],
   "source": [
    "# Визуализация предскзааний случаных лесов на 30 дней"
   ]
  },
  {
   "cell_type": "code",
   "execution_count": null,
   "metadata": {
    "colab": {
     "base_uri": "https://localhost:8080/",
     "height": 444
    },
    "id": "GNOLDD_pDZmp",
    "outputId": "d8971788-c6b4-4dcf-b743-45d365611a1c"
   },
   "outputs": [],
   "source": [
    "# Визуализация предсказаний бустингов на 30 дней"
   ]
  },
  {
   "cell_type": "code",
   "execution_count": null,
   "metadata": {
    "colab": {
     "base_uri": "https://localhost:8080/",
     "height": 295
    },
    "id": "t3u9fIxWh_eJ",
    "outputId": "130e0adc-f8b3-483a-b7ef-2a445d39d2fe"
   },
   "outputs": [],
   "source": [
    "# Дополнительно визуализируем важность признаков для 8 эксперимента (XGBoost). Данные - с дополнительными признаками по дням.\n",
    "_ = xgb.plot_importance(reg, height=0.9)"
   ]
  },
  {
   "cell_type": "code",
   "execution_count": null,
   "metadata": {
    "colab": {
     "base_uri": "https://localhost:8080/",
     "height": 295
    },
    "id": "R75oplTB_C-i",
    "outputId": "664c146a-fd86-4c9c-8102-bbff9c8dfb67"
   },
   "outputs": [
    {
     "data": {
      "image/png": "[encoded data removed]",
      "text/plain": [
       "<Figure size 432x288 with 1 Axes>"
      ]
     },
     "metadata": {
      "needs_background": "light"
     },
     "output_type": "display_data"
    }
   ],
   "source": [
    "# Визуализируем важость признаков для XGBoost . Полнные данные по загрязнителям.\n",
    "_ = xgb.plot_importance(reg, height=0.9)"
   ]
  },
  {
   "cell_type": "code",
   "execution_count": null,
   "metadata": {
    "colab": {
     "base_uri": "https://localhost:8080/",
     "height": 295
    },
    "id": "Ro19jGu8bqmh",
    "outputId": "e85fa5c8-269c-4343-fc67-267b49f5cce9"
   },
   "outputs": [
    {
     "data": {
      "image/png": "[encoded data removed]",
      "text/plain": [
       "<Figure size 432x288 with 1 Axes>"
      ]
     },
     "metadata": {
      "needs_background": "light"
     },
     "output_type": "display_data"
    }
   ],
   "source": [
    "# Важность признаков по ограниченным данным для XGBoost.\n",
    "_ = xgb.plot_importance(reg, height=0.9)"
   ]
  },
  {
   "cell_type": "markdown",
   "metadata": {
    "id": "vWhEwn8ob7Zt"
   },
   "source": [
    "*Загрязнителя имеющие цифру 2 в конце, показания за 2 дня до измерения.*"
   ]
  },
  {
   "cell_type": "markdown",
   "metadata": {
    "id": "8D6vSpjMbZ_Y"
   },
   "source": [
    "На основании визуализации важности признаков , можно сделать несколько выводов:\n",
    "1. Озон ниболее значимый фактор при оценке качества воздуха. (в наших моделях).\n",
    "2. При огранчиенной выборке загрязнителей (3 рисунок), распределение влияния/весов загрязнителей равномерно.\n",
    "3. Влияние признака день года в случае его применения , достаточно высоко. С помощью, \"*признаков даты*\" можно более точно, предсказывать колебания индекса качества воздуха в выходые и рабочие дни, когда трафик на дорогах и выбросы от работающих предприятий оказывают наиболее неблагоприятное воздействие на атмосферу.\n",
    "\n",
    "Влияние Озона неоднозначно. С одной стороны его высокая концентрация может быть \"*маркером*\" осадков, вызывающим падение уровня прочих загрязнителей (например мелкодисперсные частицы).<br>\n",
    "\n",
    "Либо, концентрация Озона для случая его выбора как главного загрязнителя происходит так редко, что его влияние высоко (веса признака завышены)."
   ]
  },
  {
   "cell_type": "markdown",
   "metadata": {
    "id": "HDlhYWSMTYAI"
   },
   "source": [
    "# Метрики качества моделей.<br>\n",
    "Для оценки качества построенных моделей была взята средняя абсолютная ошибка MAE.<br>\n",
    "Для моделей получены следующий результаты."
   ]
  },
  {
   "cell_type": "markdown",
   "metadata": {
    "id": "deBcZYegXKij"
   },
   "source": [
    "# Линейные модели"
   ]
  },
  {
   "cell_type": "markdown",
   "metadata": {
    "id": "R7AjPvZTXKma"
   },
   "source": [
    "1. Линейная Регрессия . МАЕ - 19.61 - для 30 дней. <br>\n",
    "2. SVR Regression . MAE - 21.86 <br>\n",
    "3. Логистическая регрессия. МАЕ - 6.83 <br>"
   ]
  },
  {
   "cell_type": "markdown",
   "metadata": {
    "id": "B5yJcaqVXKri"
   },
   "source": [
    "# Случайные леса и бустинги"
   ]
  },
  {
   "cell_type": "markdown",
   "metadata": {
    "id": "5ys4VBpijwOP"
   },
   "source": [
    " 1. Случайный лес с учетом сезонной компоненты. МАЕ=21.2<br>\n",
    " 2. Случайный лес без сезонной компоненты. МАЕ=11.9 .<br>\n",
    " 3. Случайный лес обученный на части признаков с ограниченным количеством данных. МАЕ=31.0<br>\n",
    " 4. Случайный лес обученный на части признаков с ограниченным количеством данных. МАЕ=34.2<br>\n",
    " 5. Бустинг (XGBoost Regressor)  МАЕ=16.2 (обучение на подиндексах загрязнителей)<br>\n",
    " 6. Бустинг (XGBoost Regressor) МАЕ=16.1 (обучение на концентрации загрязнителей)<br>\n",
    " 7. Бустинг (XGBoost Regressor) МАЕ=8.2 (обучение на полнных данных)<br>\n",
    " 8. Бустинг (XGBoost Regressor)  МАЕ=7.5 (входные данные - матрица дополненная характеристиками даты)."
   ]
  }
 ],
 "metadata": {
  "colab": {
   "provenance": []
  },
  "kernelspec": {
   "display_name": "Python 3 (ipykernel)",
   "language": "python",
   "name": "python3"
  },
  "language_info": {
   "codemirror_mode": {
    "name": "ipython",
    "version": 3
   },
   "file_extension": ".py",
   "mimetype": "text/x-python",
   "name": "python",
   "nbconvert_exporter": "python",
   "pygments_lexer": "ipython3",
   "version": "3.8.10"
  }
 },
 "nbformat": 4,
 "nbformat_minor": 4
}
