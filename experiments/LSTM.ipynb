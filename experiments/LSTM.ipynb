{
 "nbformat": 4,
 "nbformat_minor": 0,
 "metadata": {
  "colab": {
   "provenance": []
  },
  "kernelspec": {
   "name": "python3",
   "display_name": "Python 3"
  },
  "language_info": {
   "name": "python"
  }
 },
 "cells": [
  {
   "cell_type": "code",
   "execution_count": 1,
   "metadata": {
    "id": "Tr-YQRp-Tzww"
   },
   "outputs": [],
   "source": [
    "import numpy as np\n",
    "import pandas as pd\n",
    "import torch\n",
    "import torch.nn as nn\n",
    "import torch.optim as optim\n",
    "import torch.utils.data as data\n",
    "from sklearn.metrics import mean_absolute_error, mean_squared_error"
   ]
  },
  {
   "cell_type": "code",
   "source": [
    "PATH = \"https://raw.githubusercontent.com/dmitry-chvdr/aqi_prediction/master/ts_air_quality_index_2013_2020.csv\"\n",
    "df = pd.read_csv(PATH)"
   ],
   "metadata": {
    "id": "QrrSotWcT50V"
   },
   "execution_count": 2,
   "outputs": []
  },
  {
   "cell_type": "code",
   "source": [
    "data_aqi_index = df[[\"aqi\", \"Date\"]]\n",
    "data_aqi_index = data_aqi_index.set_index(\"Date\").sort_index()\n",
    "\n",
    "x_train = data_aqi_index[\"aqi\"][\"2013-01-01\":\"2018-01-01\"].values.astype(\"float32\")\n",
    "x_test = data_aqi_index[\"aqi\"][\"2018-01-02\":\"2020-12-31\"].values.astype(\"float32\")"
   ],
   "metadata": {
    "id": "UW8aN3T3T6aj"
   },
   "execution_count": 3,
   "outputs": []
  },
  {
   "cell_type": "code",
   "source": [
    "data_aqi_index.head()"
   ],
   "metadata": {
    "colab": {
     "base_uri": "https://localhost:8080/",
     "height": 238
    },
    "id": "MMzctOs2T-FF",
    "outputId": "706d3eed-2be0-4d8e-def0-c4b7674d00b2"
   },
   "execution_count": 4,
   "outputs": [
    {
     "output_type": "execute_result",
     "data": {
      "text/plain": [
       "            aqi\n",
       "Date           \n",
       "2013-01-01  125\n",
       "2013-01-02   79\n",
       "2013-01-03   67\n",
       "2013-01-04   62\n",
       "2013-01-05   57"
      ],
      "text/html": [
       "\n",
       "  <div id=\"df-7e04e27c-e878-4b05-bbd2-58ab67db024e\">\n",
       "    <div class=\"colab-df-container\">\n",
       "      <div>\n",
       "<style scoped>\n",
       "    .dataframe tbody tr th:only-of-type {\n",
       "        vertical-align: middle;\n",
       "    }\n",
       "\n",
       "    .dataframe tbody tr th {\n",
       "        vertical-align: top;\n",
       "    }\n",
       "\n",
       "    .dataframe thead th {\n",
       "        text-align: right;\n",
       "    }\n",
       "</style>\n",
       "<table border=\"1\" class=\"dataframe\">\n",
       "  <thead>\n",
       "    <tr style=\"text-align: right;\">\n",
       "      <th></th>\n",
       "      <th>aqi</th>\n",
       "    </tr>\n",
       "    <tr>\n",
       "      <th>Date</th>\n",
       "      <th></th>\n",
       "    </tr>\n",
       "  </thead>\n",
       "  <tbody>\n",
       "    <tr>\n",
       "      <th>2013-01-01</th>\n",
       "      <td>125</td>\n",
       "    </tr>\n",
       "    <tr>\n",
       "      <th>2013-01-02</th>\n",
       "      <td>79</td>\n",
       "    </tr>\n",
       "    <tr>\n",
       "      <th>2013-01-03</th>\n",
       "      <td>67</td>\n",
       "    </tr>\n",
       "    <tr>\n",
       "      <th>2013-01-04</th>\n",
       "      <td>62</td>\n",
       "    </tr>\n",
       "    <tr>\n",
       "      <th>2013-01-05</th>\n",
       "      <td>57</td>\n",
       "    </tr>\n",
       "  </tbody>\n",
       "</table>\n",
       "</div>\n",
       "      <button class=\"colab-df-convert\" onclick=\"convertToInteractive('df-7e04e27c-e878-4b05-bbd2-58ab67db024e')\"\n",
       "              title=\"Convert this dataframe to an interactive table.\"\n",
       "              style=\"display:none;\">\n",
       "        \n",
       "  <svg xmlns=\"http://www.w3.org/2000/svg\" height=\"24px\"viewBox=\"0 0 24 24\"\n",
       "       width=\"24px\">\n",
       "    <path d=\"M0 0h24v24H0V0z\" fill=\"none\"/>\n",
       "    <path d=\"M18.56 5.44l.94 2.06.94-2.06 2.06-.94-2.06-.94-.94-2.06-.94 2.06-2.06.94zm-11 1L8.5 8.5l.94-2.06 2.06-.94-2.06-.94L8.5 2.5l-.94 2.06-2.06.94zm10 10l.94 2.06.94-2.06 2.06-.94-2.06-.94-.94-2.06-.94 2.06-2.06.94z\"/><path d=\"M17.41 7.96l-1.37-1.37c-.4-.4-.92-.59-1.43-.59-.52 0-1.04.2-1.43.59L10.3 9.45l-7.72 7.72c-.78.78-.78 2.05 0 2.83L4 21.41c.39.39.9.59 1.41.59.51 0 1.02-.2 1.41-.59l7.78-7.78 2.81-2.81c.8-.78.8-2.07 0-2.86zM5.41 20L4 18.59l7.72-7.72 1.47 1.35L5.41 20z\"/>\n",
       "  </svg>\n",
       "      </button>\n",
       "      \n",
       "  <style>\n",
       "    .colab-df-container {\n",
       "      display:flex;\n",
       "      flex-wrap:wrap;\n",
       "      gap: 12px;\n",
       "    }\n",
       "\n",
       "    .colab-df-convert {\n",
       "      background-color: #E8F0FE;\n",
       "      border: none;\n",
       "      border-radius: 50%;\n",
       "      cursor: pointer;\n",
       "      display: none;\n",
       "      fill: #1967D2;\n",
       "      height: 32px;\n",
       "      padding: 0 0 0 0;\n",
       "      width: 32px;\n",
       "    }\n",
       "\n",
       "    .colab-df-convert:hover {\n",
       "      background-color: #E2EBFA;\n",
       "      box-shadow: 0px 1px 2px rgba(60, 64, 67, 0.3), 0px 1px 3px 1px rgba(60, 64, 67, 0.15);\n",
       "      fill: #174EA6;\n",
       "    }\n",
       "\n",
       "    [theme=dark] .colab-df-convert {\n",
       "      background-color: #3B4455;\n",
       "      fill: #D2E3FC;\n",
       "    }\n",
       "\n",
       "    [theme=dark] .colab-df-convert:hover {\n",
       "      background-color: #434B5C;\n",
       "      box-shadow: 0px 1px 3px 1px rgba(0, 0, 0, 0.15);\n",
       "      filter: drop-shadow(0px 1px 2px rgba(0, 0, 0, 0.3));\n",
       "      fill: #FFFFFF;\n",
       "    }\n",
       "  </style>\n",
       "\n",
       "      <script>\n",
       "        const buttonEl =\n",
       "          document.querySelector('#df-7e04e27c-e878-4b05-bbd2-58ab67db024e button.colab-df-convert');\n",
       "        buttonEl.style.display =\n",
       "          google.colab.kernel.accessAllowed ? 'block' : 'none';\n",
       "\n",
       "        async function convertToInteractive(key) {\n",
       "          const element = document.querySelector('#df-7e04e27c-e878-4b05-bbd2-58ab67db024e');\n",
       "          const dataTable =\n",
       "            await google.colab.kernel.invokeFunction('convertToInteractive',\n",
       "                                                     [key], {});\n",
       "          if (!dataTable) return;\n",
       "\n",
       "          const docLinkHtml = 'Like what you see? Visit the ' +\n",
       "            '<a target=\"_blank\" href=https://colab.research.google.com/notebooks/data_table.ipynb>data table notebook</a>'\n",
       "            + ' to learn more about interactive tables.';\n",
       "          element.innerHTML = '';\n",
       "          dataTable['output_type'] = 'display_data';\n",
       "          await google.colab.output.renderOutput(dataTable, element);\n",
       "          const docLink = document.createElement('div');\n",
       "          docLink.innerHTML = docLinkHtml;\n",
       "          element.appendChild(docLink);\n",
       "        }\n",
       "      </script>\n",
       "    </div>\n",
       "  </div>\n",
       "  "
      ]
     },
     "metadata": {},
     "execution_count": 4
    }
   ]
  },
  {
   "cell_type": "code",
   "source": [
    "def create_dataset(dataset, features):\n",
    "    x, y = [], []\n",
    "    for i in range(len(dataset) - features):\n",
    "        feature = dataset[i : i + features]\n",
    "        target = dataset[i + 1 : i + features + 1]\n",
    "        x.append(feature)\n",
    "        y.append(target)\n",
    "    return torch.tensor(x), torch.tensor(y)\n",
    "\n",
    "\n",
    "features = 10\n",
    "X_train, Y_train = create_dataset(x_train, features=features)\n",
    "X_test, Y_test = create_dataset(x_test, features=features)"
   ],
   "metadata": {
    "id": "7VRANJbfUOvw"
   },
   "execution_count": 21,
   "outputs": []
  },
  {
   "cell_type": "code",
   "source": [
    "class AqiModel(nn.Module):\n",
    "    def __init__(self):\n",
    "        super().__init__()\n",
    "        self.lstm = nn.LSTM(\n",
    "            input_size=10, hidden_size=100, num_layers=1, batch_first=True\n",
    "        )\n",
    "        self.linear = nn.Linear(100, 1)\n",
    "\n",
    "    def forward(self, x):\n",
    "        x, _ = self.lstm(x)\n",
    "        x = self.linear(x)\n",
    "        return x"
   ],
   "metadata": {
    "id": "AtnykqSLUUI1"
   },
   "execution_count": 22,
   "outputs": []
  },
  {
   "cell_type": "code",
   "source": [
    "model = AqiModel()\n",
    "optimizer = optim.Adam(model.parameters(), lr=0.001)\n",
    "loss_fn = nn.MSELoss()\n",
    "loader = data.DataLoader(\n",
    "    data.TensorDataset(X_train, Y_train), shuffle=True, batch_size=64\n",
    ")\n",
    "\n",
    "n_epochs = 2000\n",
    "for epoch in range(n_epochs):\n",
    "    model.train()\n",
    "    for X_batch, y_batch in loader:\n",
    "        y_pred = model(X_batch)\n",
    "        loss = loss_fn(y_pred, y_batch)\n",
    "        optimizer.zero_grad()\n",
    "        loss.backward()\n",
    "        optimizer.step()\n",
    "\n",
    "    if epoch % 100 != 0:\n",
    "        continue\n",
    "\n",
    "    model.eval()\n",
    "    with torch.no_grad():\n",
    "        y_pred = model(X_train)\n",
    "        train_rmse = np.sqrt(loss_fn(y_pred, Y_train))\n",
    "        y_pred = model(X_test)\n",
    "        test_rmse = np.sqrt(loss_fn(y_pred, Y_test))\n",
    "    print(f\"Epoch: {epoch}: train RMSE: {train_rmse}, test RMSE: {test_rmse}\")"
   ],
   "metadata": {
    "colab": {
     "base_uri": "https://localhost:8080/"
    },
    "id": "rhgkc13taFAC",
    "outputId": "a24265f6-1595-4f5f-e10d-c2bae3175321"
   },
   "execution_count": 36,
   "outputs": [
    {
     "output_type": "stream",
     "name": "stderr",
     "text": [
      "/usr/local/lib/python3.10/dist-packages/torch/nn/modules/loss.py:536: UserWarning: Using a target size (torch.Size([64, 10])) that is different to the input size (torch.Size([64, 1])). This will likely lead to incorrect results due to broadcasting. Please ensure they have the same size.\n",
      "  return F.mse_loss(input, target, reduction=self.reduction)\n",
      "/usr/local/lib/python3.10/dist-packages/torch/nn/modules/loss.py:536: UserWarning: Using a target size (torch.Size([25, 10])) that is different to the input size (torch.Size([25, 1])). This will likely lead to incorrect results due to broadcasting. Please ensure they have the same size.\n",
      "  return F.mse_loss(input, target, reduction=self.reduction)\n",
      "/usr/local/lib/python3.10/dist-packages/torch/nn/modules/loss.py:536: UserWarning: Using a target size (torch.Size([1817, 10])) that is different to the input size (torch.Size([1817, 1])). This will likely lead to incorrect results due to broadcasting. Please ensure they have the same size.\n",
      "  return F.mse_loss(input, target, reduction=self.reduction)\n",
      "/usr/local/lib/python3.10/dist-packages/torch/nn/modules/loss.py:536: UserWarning: Using a target size (torch.Size([1085, 10])) that is different to the input size (torch.Size([1085, 1])). This will likely lead to incorrect results due to broadcasting. Please ensure they have the same size.\n",
      "  return F.mse_loss(input, target, reduction=self.reduction)\n"
     ]
    },
    {
     "output_type": "stream",
     "name": "stdout",
     "text": [
      "Epoch: 0: train RMSE: 103.70093536376953, test RMSE: 107.17922973632812\n",
      "Epoch: 100: train RMSE: 31.360572814941406, test RMSE: 34.06132888793945\n",
      "Epoch: 200: train RMSE: 27.5895938873291, test RMSE: 27.999378204345703\n",
      "Epoch: 300: train RMSE: 27.323637008666992, test RMSE: 27.409116744995117\n",
      "Epoch: 400: train RMSE: 27.157541275024414, test RMSE: 27.070302963256836\n",
      "Epoch: 500: train RMSE: 27.12288475036621, test RMSE: 27.020864486694336\n",
      "Epoch: 600: train RMSE: 27.08172035217285, test RMSE: 26.953990936279297\n",
      "Epoch: 700: train RMSE: 27.068099975585938, test RMSE: 26.931774139404297\n",
      "Epoch: 800: train RMSE: 27.062965393066406, test RMSE: 26.969999313354492\n",
      "Epoch: 900: train RMSE: 27.076845169067383, test RMSE: 26.93528175354004\n",
      "Epoch: 1000: train RMSE: 27.01648712158203, test RMSE: 26.89502716064453\n",
      "Epoch: 1100: train RMSE: 27.062835693359375, test RMSE: 26.932004928588867\n",
      "Epoch: 1200: train RMSE: 27.006298065185547, test RMSE: 26.892562866210938\n",
      "Epoch: 1300: train RMSE: 27.07609748840332, test RMSE: 27.018983840942383\n",
      "Epoch: 1400: train RMSE: 27.01421356201172, test RMSE: 26.912015914916992\n",
      "Epoch: 1500: train RMSE: 27.004770278930664, test RMSE: 26.8931941986084\n",
      "Epoch: 1600: train RMSE: 27.032840728759766, test RMSE: 26.947681427001953\n",
      "Epoch: 1700: train RMSE: 27.00895118713379, test RMSE: 26.894285202026367\n",
      "Epoch: 1800: train RMSE: 27.002676010131836, test RMSE: 26.900028228759766\n",
      "Epoch: 1900: train RMSE: 27.050186157226562, test RMSE: 26.955528259277344\n"
     ]
    }
   ]
  },
  {
   "cell_type": "code",
   "source": [
    "y_prediction = model(X_test).flatten().detach().numpy()"
   ],
   "metadata": {
    "id": "kzslsuBjcKgV"
   },
   "execution_count": 39,
   "outputs": []
  },
  {
   "cell_type": "code",
   "source": [
    "mean_absolute_error(x_test[:10], y_prediction[:10]), mean_squared_error(\n",
    "    x_test[:10], y_prediction[:10]\n",
    ")"
   ],
   "metadata": {
    "colab": {
     "base_uri": "https://localhost:8080/"
    },
    "id": "F44AebhwgaCd",
    "outputId": "e9924234-62e2-401e-bbd3-8c99a07d1669"
   },
   "execution_count": 38,
   "outputs": [
    {
     "output_type": "execute_result",
     "data": {
      "text/plain": [
       "(8.183298, 94.818535)"
      ]
     },
     "metadata": {},
     "execution_count": 38
    }
   ]
  },
  {
   "cell_type": "code",
   "source": [
    "mean_absolute_error(x_test[:30], y_prediction[:30]), mean_squared_error(\n",
    "    x_test[:30], y_prediction[:30]\n",
    ")"
   ],
   "metadata": {
    "colab": {
     "base_uri": "https://localhost:8080/"
    },
    "id": "0I23zfNwY9gj",
    "outputId": "969ea7ce-8bd8-4258-8f72-f4e2d7add3ff"
   },
   "execution_count": 40,
   "outputs": [
    {
     "output_type": "execute_result",
     "data": {
      "text/plain": [
       "(4.558486, 40.170757)"
      ]
     },
     "metadata": {},
     "execution_count": 40
    }
   ]
  },
  {
   "cell_type": "code",
   "source": [
    "mean_absolute_error(x_test[:60], y_prediction[:60]), mean_squared_error(\n",
    "    x_test[:60], y_prediction[:60]\n",
    ")"
   ],
   "metadata": {
    "colab": {
     "base_uri": "https://localhost:8080/"
    },
    "id": "pMdLVGy4Y9sr",
    "outputId": "73b1da25-e871-4355-f69c-162220d407cd"
   },
   "execution_count": 41,
   "outputs": [
    {
     "output_type": "execute_result",
     "data": {
      "text/plain": [
       "(5.0872827, 42.98174)"
      ]
     },
     "metadata": {},
     "execution_count": 41
    }
   ]
  },
  {
   "cell_type": "markdown",
   "source": [
    "LSTM с параметрами input_size=10, hidden_size=100, num_layers=1 и Adam с lr=0.001 показывает лучший результат, чем все опредыдущие модели. В дальнейшем её и будем использовать."
   ],
   "metadata": {
    "id": "dgSpzmeuZWEa"
   }
  }
 ]
}
