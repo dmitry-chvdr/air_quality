{
 "cells": [
  {
   "cell_type": "code",
   "execution_count": 184,
   "id": "f15b0c38-ee42-48ca-96ee-d5dae12ff364",
   "metadata": {},
   "outputs": [],
   "source": [
    "import pandas as pd\n",
    "\n",
    "import numpy as np\n",
    "import matplotlib.pyplot as plt\n",
    "from sklearn.linear_model import LinearRegression\n",
    "from sklearn.metrics import mean_squared_error, mean_absolute_error\n",
    "from methods import get_result_data, get_autoregrmatrix\n",
    "%matplotlib inline "
   ]
  },
  {
   "cell_type": "code",
   "execution_count": 122,
   "id": "d9a60447-7601-4ac5-bf7f-b7a8e24394be",
   "metadata": {},
   "outputs": [],
   "source": [
    "data = pd.read_csv(\"https://raw.githubusercontent.com/dmitry-chvdr/aqi_prediction/Checkpoint4/ts_air_quality_index_2013_2020.csv\")\n",
    "data = data[[\"aqi\", \"Date\"]]\n",
    "data = data.set_index('Date').sort_index()"
   ]
  },
  {
   "cell_type": "code",
   "execution_count": 180,
   "id": "1f0c9f9b-fa73-45aa-96a5-5eef44f5962a",
   "metadata": {},
   "outputs": [],
   "source": [
    "# Baseline mean value for n steps behind\n",
    "def predict_mean_value(data, x_test, steps):\n",
    "    mean_value = int(data['aqi'].tail(steps).mean())\n",
    "    return x_test[:steps], np.stack([mean_value for i in range(steps)])"
   ]
  },
  {
   "cell_type": "code",
   "execution_count": null,
   "id": "39745bc3-cc4e-4040-9325-ee6bffee49cf",
   "metadata": {},
   "outputs": [],
   "source": [
    "x_train = data[\"aqi\"]['2013-01-01':'2018-01-01']\n",
    "x_test =  data[\"aqi\"]['2018-01-02':'2020-12-31']"
   ]
  },
  {
   "cell_type": "code",
   "execution_count": 202,
   "id": "98e030bb-d64d-42bf-ba7a-16a8852893b1",
   "metadata": {},
   "outputs": [],
   "source": [
    "def linear_regression_predict(x_train, x_test, delay, regressors=10):\n",
    "    K = regressors\n",
    "    h = delay # delay (горизонn прогнозирования)\n",
    "\n",
    "    X_train, y_train = get_autoregrmatrix(x_train,h,K)\n",
    "    X_test, y_test = get_autoregrmatrix(x_test,h,K)\n",
    "    \n",
    "    linear_regression = LinearRegression()\n",
    "    linear_regression.fit(X_train,y_train)\n",
    "    linear_regression_predict = linear_regression.predict(X_test)\n",
    "    \n",
    "    return y_test, linear_regression_predict"
   ]
  },
  {
   "cell_type": "code",
   "execution_count": 192,
   "id": "05eac924-f7ac-478e-b265-fce1326ff9b4",
   "metadata": {},
   "outputs": [
    {
     "data": {
      "text/plain": [
       "('MSE: 2.198215032561901', 'MAE: 1.4826378629192973')"
      ]
     },
     "execution_count": 192,
     "metadata": {},
     "output_type": "execute_result"
    }
   ],
   "source": [
    "y_test, y_predict = linear_regression_predict(x_train, x_test, 1)\n",
    "f\"MSE: {mean_squared_error(y_test, y_predict)}\", f\"MAE: {mean_absolute_error(y_test, y_predict)}\""
   ]
  },
  {
   "cell_type": "code",
   "execution_count": 176,
   "id": "4c862162-ba1e-4b7a-bdd4-98664a5ebc21",
   "metadata": {},
   "outputs": [
    {
     "data": {
      "text/plain": [
       "('MSE: 1566.4751708257077', 'MAE: 29.827398297663663')"
      ]
     },
     "execution_count": 176,
     "metadata": {},
     "output_type": "execute_result"
    }
   ],
   "source": [
    "y_test, y_predict = linear_regression_predict(x_train, x_test, 7)\n",
    "f\"MSE: {mean_squared_error(y_test, y_predict)}\", f\"MAE: {mean_absolute_error(y_test, y_predict)}\""
   ]
  },
  {
   "cell_type": "code",
   "execution_count": 177,
   "id": "dce57880-deb0-487d-a4ec-fb8d44af3659",
   "metadata": {},
   "outputs": [
    {
     "data": {
      "text/plain": [
       "('MSE: 2196.4385177557324', 'MAE: 36.54395915339661')"
      ]
     },
     "execution_count": 177,
     "metadata": {},
     "output_type": "execute_result"
    }
   ],
   "source": [
    "y_test, y_predict = linear_regression_predict(x_train, x_test, 30)\n",
    "f\"MSE: {mean_squared_error(y_test, y_predict)}\", f\"MAE: {mean_absolute_error(y_test, y_predict)}\""
   ]
  },
  {
   "cell_type": "code",
   "execution_count": 198,
   "id": "32af49de-2c2d-4586-9d99-1f729af260b5",
   "metadata": {},
   "outputs": [
    {
     "data": {
      "text/plain": [
       "('MSE: 1089.0', 'MAE: 33.0')"
      ]
     },
     "execution_count": 198,
     "metadata": {},
     "output_type": "execute_result"
    }
   ],
   "source": [
    "y_test, y_predict = predict_mean_value(data, x_test, 1)\n",
    "f\"MSE: {mean_squared_error(y_test, y_predict)}\", f\"MAE: {mean_absolute_error(y_test, y_predict)}\""
   ]
  },
  {
   "cell_type": "code",
   "execution_count": 200,
   "id": "e26584c4-67dc-4831-8335-76656929c6e0",
   "metadata": {},
   "outputs": [
    {
     "data": {
      "text/plain": [
       "('MSE: 147.14285714285714', 'MAE: 8.571428571428571')"
      ]
     },
     "execution_count": 200,
     "metadata": {},
     "output_type": "execute_result"
    }
   ],
   "source": [
    "y_test, y_predict = predict_mean_value(data, x_test, 7)\n",
    "f\"MSE: {mean_squared_error(y_test, y_predict)}\", f\"MAE: {mean_absolute_error(y_test, y_predict)}\""
   ]
  },
  {
   "cell_type": "code",
   "execution_count": 195,
   "id": "41946359-19f3-4250-9b43-1d460de29641",
   "metadata": {},
   "outputs": [
    {
     "data": {
      "text/plain": [
       "('MSE: 136.86666666666667', 'MAE: 10.4')"
      ]
     },
     "execution_count": 195,
     "metadata": {},
     "output_type": "execute_result"
    }
   ],
   "source": [
    "y_test, y_predict = predict_mean_value(data, x_test, 30)\n",
    "f\"MSE: {mean_squared_error(y_test, y_predict)}\", f\"MAE: {mean_absolute_error(y_test, y_predict)}\""
   ]
  }
 ],
 "metadata": {
  "kernelspec": {
   "display_name": "Python 3 (ipykernel)",
   "language": "python",
   "name": "python3"
  },
  "language_info": {
   "codemirror_mode": {
    "name": "ipython",
    "version": 3
   },
   "file_extension": ".py",
   "mimetype": "text/x-python",
   "name": "python",
   "nbconvert_exporter": "python",
   "pygments_lexer": "ipython3",
   "version": "3.8.10"
  }
 },
 "nbformat": 4,
 "nbformat_minor": 5
}
